{
 "cells": [
  {
   "cell_type": "markdown",
   "metadata": {},
   "source": [
    "<b><h1>Análise de dado do Inep - IDD</h1></b>"
   ]
  },
  {
   "cell_type": "code",
   "execution_count": 1,
   "metadata": {},
   "outputs": [
    {
     "name": "stderr",
     "output_type": "stream",
     "text": [
      "c:\\users\\lgomes\\appdata\\local\\programs\\python\\python37-32\\lib\\site-packages\\IPython\\core\\interactiveshell.py:3058: DtypeWarning: Columns (21) have mixed types. Specify dtype option on import or set low_memory=False.\n",
      "  interactivity=interactivity, compiler=compiler, result=result)\n"
     ]
    }
   ],
   "source": [
    "#Imports necessários para o projeto\n",
    "\n",
    "%matplotlib inline\n",
    "import pandas as pd\n",
    "\n",
    "filename = 'dataset/dataset_geral.csv'\n",
    "df = pd.read_csv(filename, sep=\";\")"
   ]
  },
  {
   "cell_type": "code",
   "execution_count": 2,
   "metadata": {},
   "outputs": [
    {
     "data": {
      "text/html": [
       "<div>\n",
       "<style scoped>\n",
       "    .dataframe tbody tr th:only-of-type {\n",
       "        vertical-align: middle;\n",
       "    }\n",
       "\n",
       "    .dataframe tbody tr th {\n",
       "        vertical-align: top;\n",
       "    }\n",
       "\n",
       "    .dataframe thead th {\n",
       "        text-align: right;\n",
       "    }\n",
       "</style>\n",
       "<table border=\"1\" class=\"dataframe\">\n",
       "  <thead>\n",
       "    <tr style=\"text-align: right;\">\n",
       "      <th></th>\n",
       "      <th>nu_ano</th>\n",
       "      <th>co_grupo</th>\n",
       "      <th>co_ies</th>\n",
       "      <th>co_categad</th>\n",
       "      <th>co_orgacad</th>\n",
       "      <th>co_munic</th>\n",
       "      <th>co_uf_curso</th>\n",
       "      <th>co_regiao_curso</th>\n",
       "      <th>co_curso</th>\n",
       "      <th>ano_in_grad</th>\n",
       "      <th>...</th>\n",
       "      <th>tp_pres</th>\n",
       "      <th>nt_ger</th>\n",
       "      <th>enem_nt_cn</th>\n",
       "      <th>enem_nt_ch</th>\n",
       "      <th>enem_nt_lc</th>\n",
       "      <th>enem_nt_mt</th>\n",
       "      <th>co_modalidade</th>\n",
       "      <th>IN_REGULAR</th>\n",
       "      <th>TP_INSCRICAO_ADM</th>\n",
       "      <th>ausente da lista 2015</th>\n",
       "    </tr>\n",
       "  </thead>\n",
       "  <tbody>\n",
       "    <tr>\n",
       "      <td>0</td>\n",
       "      <td>2015</td>\n",
       "      <td>22</td>\n",
       "      <td>833</td>\n",
       "      <td>10008</td>\n",
       "      <td>10022</td>\n",
       "      <td>1100023</td>\n",
       "      <td>11.0</td>\n",
       "      <td>1.0</td>\n",
       "      <td>21267</td>\n",
       "      <td>2011</td>\n",
       "      <td>...</td>\n",
       "      <td>555</td>\n",
       "      <td>25.3</td>\n",
       "      <td>583.1</td>\n",
       "      <td>598.3</td>\n",
       "      <td>593</td>\n",
       "      <td>672.1</td>\n",
       "      <td>1.0</td>\n",
       "      <td>NaN</td>\n",
       "      <td>NaN</td>\n",
       "      <td>NaN</td>\n",
       "    </tr>\n",
       "    <tr>\n",
       "      <td>1</td>\n",
       "      <td>2015</td>\n",
       "      <td>1</td>\n",
       "      <td>1540</td>\n",
       "      <td>10008</td>\n",
       "      <td>10022</td>\n",
       "      <td>1100023</td>\n",
       "      <td>11.0</td>\n",
       "      <td>1.0</td>\n",
       "      <td>22113</td>\n",
       "      <td>2012</td>\n",
       "      <td>...</td>\n",
       "      <td>555</td>\n",
       "      <td>64.7</td>\n",
       "      <td>552.7</td>\n",
       "      <td>627.1</td>\n",
       "      <td>557.4</td>\n",
       "      <td>434.6</td>\n",
       "      <td>1.0</td>\n",
       "      <td>NaN</td>\n",
       "      <td>NaN</td>\n",
       "      <td>NaN</td>\n",
       "    </tr>\n",
       "    <tr>\n",
       "      <td>2</td>\n",
       "      <td>2015</td>\n",
       "      <td>1</td>\n",
       "      <td>833</td>\n",
       "      <td>10008</td>\n",
       "      <td>10022</td>\n",
       "      <td>1100023</td>\n",
       "      <td>11.0</td>\n",
       "      <td>1.0</td>\n",
       "      <td>27377</td>\n",
       "      <td>2012</td>\n",
       "      <td>...</td>\n",
       "      <td>555</td>\n",
       "      <td>32.6</td>\n",
       "      <td>446.6</td>\n",
       "      <td>541.9</td>\n",
       "      <td>484.4</td>\n",
       "      <td>594</td>\n",
       "      <td>1.0</td>\n",
       "      <td>NaN</td>\n",
       "      <td>NaN</td>\n",
       "      <td>NaN</td>\n",
       "    </tr>\n",
       "    <tr>\n",
       "      <td>3</td>\n",
       "      <td>2015</td>\n",
       "      <td>2</td>\n",
       "      <td>1540</td>\n",
       "      <td>10008</td>\n",
       "      <td>10022</td>\n",
       "      <td>1100023</td>\n",
       "      <td>11.0</td>\n",
       "      <td>1.0</td>\n",
       "      <td>54688</td>\n",
       "      <td>2011</td>\n",
       "      <td>...</td>\n",
       "      <td>555</td>\n",
       "      <td>56</td>\n",
       "      <td>538.5</td>\n",
       "      <td>621.7</td>\n",
       "      <td>590.4</td>\n",
       "      <td>599.8</td>\n",
       "      <td>1.0</td>\n",
       "      <td>NaN</td>\n",
       "      <td>NaN</td>\n",
       "      <td>NaN</td>\n",
       "    </tr>\n",
       "    <tr>\n",
       "      <td>4</td>\n",
       "      <td>2015</td>\n",
       "      <td>18</td>\n",
       "      <td>1540</td>\n",
       "      <td>10008</td>\n",
       "      <td>10022</td>\n",
       "      <td>1100023</td>\n",
       "      <td>11.0</td>\n",
       "      <td>1.0</td>\n",
       "      <td>96110</td>\n",
       "      <td>2011</td>\n",
       "      <td>...</td>\n",
       "      <td>555</td>\n",
       "      <td>38.9</td>\n",
       "      <td>425.5</td>\n",
       "      <td>490</td>\n",
       "      <td>504.7</td>\n",
       "      <td>394.5</td>\n",
       "      <td>1.0</td>\n",
       "      <td>NaN</td>\n",
       "      <td>NaN</td>\n",
       "      <td>NaN</td>\n",
       "    </tr>\n",
       "    <tr>\n",
       "      <td>5</td>\n",
       "      <td>2015</td>\n",
       "      <td>18</td>\n",
       "      <td>4613</td>\n",
       "      <td>10005</td>\n",
       "      <td>10022</td>\n",
       "      <td>1100023</td>\n",
       "      <td>11.0</td>\n",
       "      <td>1.0</td>\n",
       "      <td>117508</td>\n",
       "      <td>2011</td>\n",
       "      <td>...</td>\n",
       "      <td>555</td>\n",
       "      <td>48.9</td>\n",
       "      <td>473.4</td>\n",
       "      <td>542.3</td>\n",
       "      <td>594.9</td>\n",
       "      <td>574.5</td>\n",
       "      <td>1.0</td>\n",
       "      <td>NaN</td>\n",
       "      <td>NaN</td>\n",
       "      <td>NaN</td>\n",
       "    </tr>\n",
       "    <tr>\n",
       "      <td>6</td>\n",
       "      <td>2015</td>\n",
       "      <td>22</td>\n",
       "      <td>833</td>\n",
       "      <td>10008</td>\n",
       "      <td>10022</td>\n",
       "      <td>1100023</td>\n",
       "      <td>11.0</td>\n",
       "      <td>1.0</td>\n",
       "      <td>21267</td>\n",
       "      <td>2011</td>\n",
       "      <td>...</td>\n",
       "      <td>555</td>\n",
       "      <td>33.2</td>\n",
       "      <td>466.2</td>\n",
       "      <td>572.5</td>\n",
       "      <td>532.8</td>\n",
       "      <td>486</td>\n",
       "      <td>1.0</td>\n",
       "      <td>NaN</td>\n",
       "      <td>NaN</td>\n",
       "      <td>NaN</td>\n",
       "    </tr>\n",
       "    <tr>\n",
       "      <td>7</td>\n",
       "      <td>2015</td>\n",
       "      <td>22</td>\n",
       "      <td>833</td>\n",
       "      <td>10008</td>\n",
       "      <td>10022</td>\n",
       "      <td>1100023</td>\n",
       "      <td>11.0</td>\n",
       "      <td>1.0</td>\n",
       "      <td>21267</td>\n",
       "      <td>2012</td>\n",
       "      <td>...</td>\n",
       "      <td>555</td>\n",
       "      <td>44.8</td>\n",
       "      <td>388.7</td>\n",
       "      <td>396.3</td>\n",
       "      <td>456</td>\n",
       "      <td>510.1</td>\n",
       "      <td>1.0</td>\n",
       "      <td>NaN</td>\n",
       "      <td>NaN</td>\n",
       "      <td>NaN</td>\n",
       "    </tr>\n",
       "    <tr>\n",
       "      <td>8</td>\n",
       "      <td>2015</td>\n",
       "      <td>22</td>\n",
       "      <td>833</td>\n",
       "      <td>10008</td>\n",
       "      <td>10022</td>\n",
       "      <td>1100023</td>\n",
       "      <td>11.0</td>\n",
       "      <td>1.0</td>\n",
       "      <td>21267</td>\n",
       "      <td>2012</td>\n",
       "      <td>...</td>\n",
       "      <td>555</td>\n",
       "      <td>40.1</td>\n",
       "      <td>505.8</td>\n",
       "      <td>573.4</td>\n",
       "      <td>583.2</td>\n",
       "      <td>486.3</td>\n",
       "      <td>1.0</td>\n",
       "      <td>NaN</td>\n",
       "      <td>NaN</td>\n",
       "      <td>NaN</td>\n",
       "    </tr>\n",
       "    <tr>\n",
       "      <td>9</td>\n",
       "      <td>2015</td>\n",
       "      <td>22</td>\n",
       "      <td>833</td>\n",
       "      <td>10008</td>\n",
       "      <td>10022</td>\n",
       "      <td>1100023</td>\n",
       "      <td>11.0</td>\n",
       "      <td>1.0</td>\n",
       "      <td>21267</td>\n",
       "      <td>2012</td>\n",
       "      <td>...</td>\n",
       "      <td>555</td>\n",
       "      <td>31.1</td>\n",
       "      <td>462.2</td>\n",
       "      <td>422.2</td>\n",
       "      <td>487.3</td>\n",
       "      <td>471.2</td>\n",
       "      <td>1.0</td>\n",
       "      <td>NaN</td>\n",
       "      <td>NaN</td>\n",
       "      <td>NaN</td>\n",
       "    </tr>\n",
       "  </tbody>\n",
       "</table>\n",
       "<p>10 rows × 22 columns</p>\n",
       "</div>"
      ],
      "text/plain": [
       "   nu_ano  co_grupo  co_ies  co_categad  co_orgacad  co_munic  co_uf_curso  \\\n",
       "0    2015        22     833       10008       10022   1100023         11.0   \n",
       "1    2015         1    1540       10008       10022   1100023         11.0   \n",
       "2    2015         1     833       10008       10022   1100023         11.0   \n",
       "3    2015         2    1540       10008       10022   1100023         11.0   \n",
       "4    2015        18    1540       10008       10022   1100023         11.0   \n",
       "5    2015        18    4613       10005       10022   1100023         11.0   \n",
       "6    2015        22     833       10008       10022   1100023         11.0   \n",
       "7    2015        22     833       10008       10022   1100023         11.0   \n",
       "8    2015        22     833       10008       10022   1100023         11.0   \n",
       "9    2015        22     833       10008       10022   1100023         11.0   \n",
       "\n",
       "   co_regiao_curso  co_curso  ano_in_grad  ...  tp_pres  nt_ger  enem_nt_cn  \\\n",
       "0              1.0     21267         2011  ...      555    25.3       583.1   \n",
       "1              1.0     22113         2012  ...      555    64.7       552.7   \n",
       "2              1.0     27377         2012  ...      555    32.6       446.6   \n",
       "3              1.0     54688         2011  ...      555      56       538.5   \n",
       "4              1.0     96110         2011  ...      555    38.9       425.5   \n",
       "5              1.0    117508         2011  ...      555    48.9       473.4   \n",
       "6              1.0     21267         2011  ...      555    33.2       466.2   \n",
       "7              1.0     21267         2012  ...      555    44.8       388.7   \n",
       "8              1.0     21267         2012  ...      555    40.1       505.8   \n",
       "9              1.0     21267         2012  ...      555    31.1       462.2   \n",
       "\n",
       "  enem_nt_ch enem_nt_lc enem_nt_mt co_modalidade IN_REGULAR  TP_INSCRICAO_ADM  \\\n",
       "0      598.3        593      672.1           1.0        NaN               NaN   \n",
       "1      627.1      557.4      434.6           1.0        NaN               NaN   \n",
       "2      541.9      484.4        594           1.0        NaN               NaN   \n",
       "3      621.7      590.4      599.8           1.0        NaN               NaN   \n",
       "4        490      504.7      394.5           1.0        NaN               NaN   \n",
       "5      542.3      594.9      574.5           1.0        NaN               NaN   \n",
       "6      572.5      532.8        486           1.0        NaN               NaN   \n",
       "7      396.3        456      510.1           1.0        NaN               NaN   \n",
       "8      573.4      583.2      486.3           1.0        NaN               NaN   \n",
       "9      422.2      487.3      471.2           1.0        NaN               NaN   \n",
       "\n",
       "   ausente da lista 2015  \n",
       "0                    NaN  \n",
       "1                    NaN  \n",
       "2                    NaN  \n",
       "3                    NaN  \n",
       "4                    NaN  \n",
       "5                    NaN  \n",
       "6                    NaN  \n",
       "7                    NaN  \n",
       "8                    NaN  \n",
       "9                    NaN  \n",
       "\n",
       "[10 rows x 22 columns]"
      ]
     },
     "execution_count": 2,
     "metadata": {},
     "output_type": "execute_result"
    }
   ],
   "source": [
    "# Mostra as dez primeiras linhas do arquivo lido\n",
    "df.head(10)"
   ]
  },
  {
   "cell_type": "code",
   "execution_count": 4,
   "metadata": {},
   "outputs": [
    {
     "data": {
      "text/plain": [
       "(795751, 22)"
      ]
     },
     "execution_count": 4,
     "metadata": {},
     "output_type": "execute_result"
    }
   ],
   "source": [
    "#Mostra quantidade de linhas e colunas\n",
    "\n",
    "df.shape"
   ]
  },
  {
   "cell_type": "markdown",
   "metadata": {},
   "source": [
    "É possivel observar que esta amostrapossui 795.751 registros sobre 22 tipos de colunas"
   ]
  },
  {
   "cell_type": "markdown",
   "metadata": {},
   "source": [
    "<h2><b>Diferença de notas entre instituições por prova</b></h2>"
   ]
  },
  {
   "cell_type": "markdown",
   "metadata": {},
   "source": [
    "<h3><b>Ciências da Natureza</b></h3>"
   ]
  },
  {
   "cell_type": "markdown",
   "metadata": {},
   "source": [
    "<h2><b>Diferença de desempenho entre modalidade de ensino: EAD e Presencial</b></h2>\n"
   ]
  },
  {
   "cell_type": "code",
   "execution_count": 5,
   "metadata": {},
   "outputs": [
    {
     "data": {
      "text/plain": [
       "<matplotlib.axes._subplots.AxesSubplot at 0xc299050>"
      ]
     },
     "execution_count": 5,
     "metadata": {},
     "output_type": "execute_result"
    },
    {
     "data": {
      "image/png": "[encoded data removed]",
      "text/plain": [
       "<Figure size 360x144 with 1 Axes>"
      ]
     },
     "metadata": {
      "needs_background": "light"
     },
     "output_type": "display_data"
    }
   ],
   "source": [
    "df['co_modalidade'].value_counts().to_frame().T.rename(columns={0.0:'EAD',1.0:'Presencial'}).plot(kind='barh', figsize=(5,2))"
   ]
  },
  {
   "cell_type": "markdown",
   "metadata": {},
   "source": [
    "Observamos a comparação em quantidade de cursos presentes entre as modalidades de cursos: EAD e Presencial.\n",
    "\n",
    "A modalidade Presencial é quem se destaca, sobre os dados entre os anos 2009 a 2017"
   ]
  },
  {
   "cell_type": "code",
   "execution_count": 6,
   "metadata": {},
   "outputs": [
    {
     "data": {
      "text/plain": [
       "<matplotlib.axes._subplots.AxesSubplot at 0xc334a10>"
      ]
     },
     "execution_count": 6,
     "metadata": {},
     "output_type": "execute_result"
    },
    {
     "data": {
      "image/png": "[encoded data removed]",
      "text/plain": [
       "<Figure size 360x144 with 1 Axes>"
      ]
     },
     "metadata": {
      "needs_background": "light"
     },
     "output_type": "display_data"
    }
   ],
   "source": [
    "df.loc[df['co_modalidade'] == 0.0].groupby('ano_enem').size().plot(kind='line', figsize=(5,2))\n",
    "df.loc[df['co_modalidade'] == 1.0].groupby('ano_enem').size().plot(kind='line', figsize=(5,2))"
   ]
  },
  {
   "cell_type": "markdown",
   "metadata": {},
   "source": [
    "É possivel observar a grandeza de diferença entre as modalidades (Azul para EAD Laranja para Presencial) em função da identificação do ano de Enem selecionado entre as modalidades EAD e Presencial.\n",
    "\n",
    "Isso significa que ao decorrer dos anos, a quantidade de alunos na qual realizaram a prova do enem para os cursos presenciais somente cresceram no ano de 2011, com uma quda brusca nos anos seguintes. \n",
    "\n",
    "Por se tratar de concorrencia entre tipos de cursos, curiosamente no crescimento do ano de 2011 até o ano de 2016 não houve alteração significante de valores."
   ]
  },
  {
   "cell_type": "code",
   "execution_count": 7,
   "metadata": {},
   "outputs": [],
   "source": [
    "# df['nt_ger'] = pd.to_numeric(df['nt_ger'],errors='coerce')"
   ]
  },
  {
   "cell_type": "markdown",
   "metadata": {},
   "source": [
    "Realizando conversão pois são presentes alguns dados com formatos de numeros diferentes para floar (com ',' e '.')"
   ]
  },
  {
   "cell_type": "code",
   "execution_count": 8,
   "metadata": {},
   "outputs": [
    {
     "data": {
      "text/plain": [
       "<matplotlib.axes._subplots.AxesSubplot at 0xc3981d0>"
      ]
     },
     "execution_count": 8,
     "metadata": {},
     "output_type": "execute_result"
    },
    {
     "data": {
      "image/png": "[encoded data removed]",
      "text/plain": [
       "<Figure size 360x144 with 1 Axes>"
      ]
     },
     "metadata": {
      "needs_background": "light"
     },
     "output_type": "display_data"
    }
   ],
   "source": [
    "df['nt_ger'] = pd.to_numeric(df['nt_ger'],errors='coerce')\n",
    "df.loc[df['co_modalidade'] == 0.0].groupby('ano_enem')['nt_ger'].median().plot(kind='line', figsize=(5,2))\n",
    "df.loc[df['co_modalidade'] == 1.0].groupby('ano_enem')['nt_ger'].median().plot(kind='line', figsize=(5,2))"
   ]
  },
  {
   "cell_type": "markdown",
   "metadata": {},
   "source": [
    "Com este gráfico, é possivel notar o crescimento para a nota modalidade Presencial durante o decorrer dos anos.\n",
    "\n",
    "Em contra partida, a nota de EAD se manteve constante sem sair da margem de erro de 3 pontos."
   ]
  },
  {
   "cell_type": "markdown",
   "metadata": {},
   "source": [
    "<h2><b>Comparação: Nota Prova Ciencias Humanas</b></h2>\n",
    "    "
   ]
  },
  {
   "cell_type": "code",
   "execution_count": 20,
   "metadata": {},
   "outputs": [
    {
     "data": {
      "text/plain": [
       "0    583.1\n",
       "1    552.7\n",
       "2    446.6\n",
       "3    538.5\n",
       "4    425.5\n",
       "5    473.4\n",
       "6    466.2\n",
       "7    388.7\n",
       "8    505.8\n",
       "9    462.2\n",
       "Name: enem_nt_cn, dtype: object"
      ]
     },
     "execution_count": 20,
     "metadata": {},
     "output_type": "execute_result"
    }
   ],
   "source": [
    "df['enem_nt_cn'].head(10)"
   ]
  },
  {
   "cell_type": "code",
   "execution_count": 21,
   "metadata": {},
   "outputs": [
    {
     "data": {
      "text/plain": [
       "<matplotlib.axes._subplots.AxesSubplot at 0x4c09f90>"
      ]
     },
     "execution_count": 21,
     "metadata": {},
     "output_type": "execute_result"
    },
    {
     "data": {
      "image/png": "[encoded data removed]",
      "text/plain": [
       "<Figure size 360x144 with 1 Axes>"
      ]
     },
     "metadata": {
      "needs_background": "light"
     },
     "output_type": "display_data"
    }
   ],
   "source": [
    "df['enem_nt_cn'] = pd.to_numeric(df['enem_nt_cn'],errors='coerce')\n",
    "df.loc[df['co_modalidade'] == 0.0].groupby('ano_enem')['enem_nt_cn'].median().plot(kind='line', figsize=(5,2))\n",
    "df.loc[df['co_modalidade'] == 1.0].groupby('ano_enem')['enem_nt_cn'].median().plot(kind='line', figsize=(5,2))"
   ]
  },
  {
   "cell_type": "markdown",
   "metadata": {},
   "source": [
    "<h2><b>Comparação: Nota Prova Ciencias da Natureza</b></h2>"
   ]
  },
  {
   "cell_type": "code",
   "execution_count": 17,
   "metadata": {},
   "outputs": [
    {
     "data": {
      "text/plain": [
       "0    598.3\n",
       "1    627.1\n",
       "2    541.9\n",
       "3    621.7\n",
       "4      490\n",
       "5    542.3\n",
       "6    572.5\n",
       "7    396.3\n",
       "8    573.4\n",
       "9    422.2\n",
       "Name: enem_nt_ch, dtype: object"
      ]
     },
     "execution_count": 17,
     "metadata": {},
     "output_type": "execute_result"
    }
   ],
   "source": [
    "df['enem_nt_ch'].head(10)"
   ]
  },
  {
   "cell_type": "code",
   "execution_count": 22,
   "metadata": {},
   "outputs": [
    {
     "data": {
      "text/plain": [
       "<matplotlib.axes._subplots.AxesSubplot at 0x4c09050>"
      ]
     },
     "execution_count": 22,
     "metadata": {},
     "output_type": "execute_result"
    },
    {
     "data": {
      "image/png": "[encoded data removed]",
      "text/plain": [
       "<Figure size 360x144 with 1 Axes>"
      ]
     },
     "metadata": {
      "needs_background": "light"
     },
     "output_type": "display_data"
    }
   ],
   "source": [
    "df['enem_nt_ch'] = pd.to_numeric(df['enem_nt_ch'],errors='coerce')\n",
    "df.loc[df['co_modalidade'] == 0.0].groupby('ano_enem')['enem_nt_ch'].median().plot(kind='line', figsize=(5,2))\n",
    "df.loc[df['co_modalidade'] == 1.0].groupby('ano_enem')['enem_nt_ch'].median().plot(kind='line', figsize=(5,2))"
   ]
  },
  {
   "cell_type": "markdown",
   "metadata": {},
   "source": [
    "<h2><b>Comparação: Nota Prova Linguagens e Códigos</b></h2>"
   ]
  },
  {
   "cell_type": "code",
   "execution_count": 18,
   "metadata": {},
   "outputs": [
    {
     "data": {
      "text/plain": [
       "0      593\n",
       "1    557.4\n",
       "2    484.4\n",
       "3    590.4\n",
       "4    504.7\n",
       "5    594.9\n",
       "6    532.8\n",
       "7      456\n",
       "8    583.2\n",
       "9    487.3\n",
       "Name: enem_nt_lc, dtype: object"
      ]
     },
     "execution_count": 18,
     "metadata": {},
     "output_type": "execute_result"
    }
   ],
   "source": [
    "df['enem_nt_lc'].head(10)"
   ]
  },
  {
   "cell_type": "code",
   "execution_count": 23,
   "metadata": {},
   "outputs": [
    {
     "data": {
      "text/plain": [
       "<matplotlib.axes._subplots.AxesSubplot at 0xc40cd70>"
      ]
     },
     "execution_count": 23,
     "metadata": {},
     "output_type": "execute_result"
    },
    {
     "data": {
      "image/png": "[encoded data removed]",
      "text/plain": [
       "<Figure size 360x144 with 1 Axes>"
      ]
     },
     "metadata": {
      "needs_background": "light"
     },
     "output_type": "display_data"
    }
   ],
   "source": [
    "df['enem_nt_lc'] = pd.to_numeric(df['enem_nt_lc'],errors='coerce')\n",
    "df.loc[df['co_modalidade'] == 0.0].groupby('ano_enem')['enem_nt_lc'].median().plot(kind='line', figsize=(5,2))\n",
    "df.loc[df['co_modalidade'] == 1.0].groupby('ano_enem')['enem_nt_lc'].median().plot(kind='line', figsize=(5,2))"
   ]
  },
  {
   "cell_type": "markdown",
   "metadata": {},
   "source": [
    "<h2><b>Comparação: Nota Prova Matemática</b></h2>"
   ]
  },
  {
   "cell_type": "code",
   "execution_count": 19,
   "metadata": {},
   "outputs": [
    {
     "data": {
      "text/plain": [
       "0    672.1\n",
       "1    434.6\n",
       "2      594\n",
       "3    599.8\n",
       "4    394.5\n",
       "5    574.5\n",
       "6      486\n",
       "7    510.1\n",
       "8    486.3\n",
       "9    471.2\n",
       "Name: enem_nt_mt, dtype: object"
      ]
     },
     "execution_count": 19,
     "metadata": {},
     "output_type": "execute_result"
    }
   ],
   "source": [
    "df['enem_nt_mt'].head(10)"
   ]
  },
  {
   "cell_type": "code",
   "execution_count": 24,
   "metadata": {},
   "outputs": [
    {
     "data": {
      "text/plain": [
       "<matplotlib.axes._subplots.AxesSubplot at 0x4c70cb0>"
      ]
     },
     "execution_count": 24,
     "metadata": {},
     "output_type": "execute_result"
    },
    {
     "data": {
      "image/png": "[encoded data removed]",
      "text/plain": [
       "<Figure size 360x144 with 1 Axes>"
      ]
     },
     "metadata": {
      "needs_background": "light"
     },
     "output_type": "display_data"
    }
   ],
   "source": [
    "df['enem_nt_mt'] = pd.to_numeric(df['enem_nt_mt'],errors='coerce')\n",
    "df.loc[df['co_modalidade'] == 0.0].groupby('ano_enem')['enem_nt_mt'].median().plot(kind='line', figsize=(5,2))\n",
    "df.loc[df['co_modalidade'] == 1.0].groupby('ano_enem')['enem_nt_mt'].median().plot(kind='line', figsize=(5,2))"
   ]
  },
  {
   "cell_type": "markdown",
   "metadata": {},
   "source": [
    "<h2><b>Diferença de desempenho entre Instituto Federal e Faculdade</b></h2>"
   ]
  },
  {
   "cell_type": "code",
   "execution_count": null,
   "metadata": {},
   "outputs": [],
   "source": []
  },
  {
   "cell_type": "markdown",
   "metadata": {},
   "source": [
    "<h2><b>Medias notas Escolas: Federal, Estadual Municipal, Privada sem funs lucrativos, Privada com fins lucrativos</b></h2>"
   ]
  },
  {
   "cell_type": "code",
   "execution_count": null,
   "metadata": {},
   "outputs": [],
   "source": []
  },
  {
   "cell_type": "markdown",
   "metadata": {},
   "source": [
    "<h2><b>Diferença Escola Privada com Fins Lucrativos com Estadual</b></h2>"
   ]
  },
  {
   "cell_type": "code",
   "execution_count": null,
   "metadata": {},
   "outputs": [],
   "source": []
  }
 ],
 "metadata": {
  "kernelspec": {
   "display_name": "Python 3",
   "language": "python",
   "name": "python3"
  },
  "language_info": {
   "codemirror_mode": {
    "name": "ipython",
    "version": 3
   },
   "file_extension": ".py",
   "mimetype": "text/x-python",
   "name": "python",
   "nbconvert_exporter": "python",
   "pygments_lexer": "ipython3",
   "version": "3.7.4"
  }
 },
 "nbformat": 4,
 "nbformat_minor": 2
}
